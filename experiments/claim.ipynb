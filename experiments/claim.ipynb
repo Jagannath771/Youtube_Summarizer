{
 "cells": [
  {
   "cell_type": "code",
   "execution_count": 62,
   "metadata": {},
   "outputs": [],
   "source": [
    "from dotenv import load_dotenv\n",
    "load_dotenv()\n",
    "import os\n",
    "import google.generativeai as genai\n",
    "genai.configure(api_key=os.getenv(\"GOOGLE_API_KEY\"))\n",
    "from youtube_transcript_api import YouTubeTranscriptApi\n",
    "\n",
    "model_config = {\n",
    "  \"temperature\": 0.1,\n",
    "  \"top_p\": 1,\n",
    "  \"top_k\": 1,\n",
    "}\n",
    "\n",
    "summarizer_prompt=\"\"\"You are a Youtube video summarizer. \n",
    "You will be taking the transcript text and summarizing the content. Please provide the summary of the text given here : \"\"\"\n",
    "\n",
    "##Getting the transcript data from yt videos\n",
    "def extract_transript_details(youtube_video_url):\n",
    "    try:\n",
    "        video_id=youtube_video_url.split(\"=\")[1]\n",
    "        # print(video_id)\n",
    "        transcript_text=YouTubeTranscriptApi.get_transcript(video_id)\n",
    "        transcript=\"\"\n",
    "        for i in transcript_text:\n",
    "            transcript+=\" \"+i[\"text\"]\n",
    "\n",
    "    except Exception as e:\n",
    "        raise e\n",
    "    return transcript\n",
    "\n",
    "#Getting the summary based on prompt from Google Gemini Pro\n",
    "def generate_gemini_content(transcript_text, prompt):\n",
    "    model=genai.GenerativeModel(\"gemini-pro\", generation_config= model_config)\n",
    "    response=model.generate_content(prompt+transcript_text)\n",
    "    return response.text\n"
   ]
  },
  {
   "cell_type": "code",
   "execution_count": 63,
   "metadata": {},
   "outputs": [],
   "source": [
    "claim_prompt='''You are a medical expert who needs to research the validity of claims for scientific evidence.\n",
    "You will be provided a text. Identify at most 5 health/medicine/science/nutrition related claims that you would like to verify.\n",
    "Ignore opinions. The claims needs to be given in single line points separated by *. Include medical terminology. \n",
    "Structure the sentences as Subject-verb-object (SVO) format.'''\n",
    "\n",
    "def generate_gemini_claims(summary, prompt):\n",
    "    model=genai.GenerativeModel('gemini-pro', generation_config= model_config)\n",
    "    response=model.generate_content(prompt+summary)\n",
    "    return response.text"
   ]
  },
  {
   "cell_type": "code",
   "execution_count": 85,
   "metadata": {},
   "outputs": [],
   "source": [
    "youtube_link= \"https://www.youtube.com/watch?v=iFtqudy39sA\"\n",
    "transcript_text=extract_transript_details(youtube_link)\n",
    "summary=generate_gemini_content(transcript_text, summarizer_prompt)\n",
    "claims=generate_gemini_claims(summary, claim_prompt)"
   ]
  },
  {
   "cell_type": "code",
   "execution_count": 86,
   "metadata": {},
   "outputs": [
    {
     "data": {
      "text/plain": [
       "['Sunlight exposure improves mood, energy, and sleep.',\n",
       " 'Caffeine consumption after waking prevents afternoon crashes.',\n",
       " 'Distraction removal enhances focus and productivity.',\n",
       " 'Protein-rich breakfasts sustain energy levels.',\n",
       " 'Post-meal walks regulate digestion and glucose levels.']"
      ]
     },
     "execution_count": 86,
     "metadata": {},
     "output_type": "execute_result"
    }
   ],
   "source": [
    "lines= claims.strip().split(\"\\n\")\n",
    "claims_list= [line.lstrip('* ').strip() for line in lines if line.startswith('* ')]\n",
    "claims_list"
   ]
  },
  {
   "cell_type": "code",
   "execution_count": 87,
   "metadata": {},
   "outputs": [],
   "source": [
    "keyword_prompt= \"\"\"You are a medical researcher who wants to check the validity of the following claim by searching for articles from pubmed. \n",
    "Extract 3 keywords summarizing the claim.\"\"\"\n",
    "\n",
    "def generate_gemini_keywords(claims, keyword_prompt):\n",
    "    model=genai.GenerativeModel('gemini-pro', generation_config= model_config)\n",
    "    response=model.generate_content(keyword_prompt+claims)\n",
    "    return response.text\n"
   ]
  },
  {
   "cell_type": "code",
   "execution_count": 88,
   "metadata": {},
   "outputs": [
    {
     "data": {
      "text/plain": [
       "['Sunlight exposure improves mood, energy, and sleep.',\n",
       " 'Caffeine consumption after waking prevents afternoon crashes.',\n",
       " 'Distraction removal enhances focus and productivity.',\n",
       " 'Protein-rich breakfasts sustain energy levels.',\n",
       " 'Post-meal walks regulate digestion and glucose levels.']"
      ]
     },
     "execution_count": 88,
     "metadata": {},
     "output_type": "execute_result"
    }
   ],
   "source": [
    "claims_list"
   ]
  },
  {
   "cell_type": "code",
   "execution_count": 90,
   "metadata": {},
   "outputs": [
    {
     "name": "stdout",
     "output_type": "stream",
     "text": [
      "- Sunlight exposure\n",
      "- Mood\n",
      "- Sleep\n",
      "\n",
      "\n",
      "- Caffeine\n",
      "- Afternoon crashes\n",
      "- Wakefulness\n",
      "\n",
      "\n",
      "1. Distraction\n",
      "2. Focus\n",
      "3. Productivity\n",
      "\n",
      "\n",
      "1. Protein-rich breakfasts\n",
      "2. Energy levels\n",
      "3. Sustain\n",
      "\n",
      "\n",
      "- Postprandial\n",
      "- Digestion\n",
      "- Glucose metabolism\n",
      "\n",
      "\n"
     ]
    }
   ],
   "source": [
    "\n",
    "for claim in claims_list:\n",
    "    response= generate_gemini_keywords(claims= claim, keyword_prompt=keyword_prompt)\n",
    "    print(response)\n",
    "    print(\"\\n\")"
   ]
  },
  {
   "cell_type": "code",
   "execution_count": null,
   "metadata": {},
   "outputs": [],
   "source": []
  }
 ],
 "metadata": {
  "kernelspec": {
   "display_name": "Python 3",
   "language": "python",
   "name": "python3"
  },
  "language_info": {
   "codemirror_mode": {
    "name": "ipython",
    "version": 3
   },
   "file_extension": ".py",
   "mimetype": "text/x-python",
   "name": "python",
   "nbconvert_exporter": "python",
   "pygments_lexer": "ipython3",
   "version": "3.9.19"
  }
 },
 "nbformat": 4,
 "nbformat_minor": 2
}
